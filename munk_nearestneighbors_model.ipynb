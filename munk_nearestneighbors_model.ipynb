{
 "cells": [
  {
   "cell_type": "code",
   "execution_count": 1,
   "metadata": {
    "collapsed": false
   },
   "outputs": [
    {
     "name": "stdout",
     "output_type": "stream",
     "text": [
      "Requirement already satisfied: spacy in /anaconda/lib/python3.6/site-packages\n",
      "Requirement already satisfied: murmurhash<0.27,>=0.26 in /anaconda/lib/python3.6/site-packages (from spacy)\n",
      "Requirement already satisfied: requests<3.0.0,>=2.13.0 in /anaconda/lib/python3.6/site-packages (from spacy)\n",
      "Requirement already satisfied: thinc<6.6.0,>=6.5.0 in /anaconda/lib/python3.6/site-packages (from spacy)\n",
      "Requirement already satisfied: numpy>=1.7 in /anaconda/lib/python3.6/site-packages (from spacy)\n",
      "Requirement already satisfied: ujson>=1.35 in /anaconda/lib/python3.6/site-packages (from spacy)\n",
      "Requirement already satisfied: six in /anaconda/lib/python3.6/site-packages (from spacy)\n",
      "Requirement already satisfied: dill<0.3,>=0.2 in /anaconda/lib/python3.6/site-packages (from spacy)\n",
      "Requirement already satisfied: cymem<1.32,>=1.30 in /anaconda/lib/python3.6/site-packages (from spacy)\n",
      "Requirement already satisfied: pathlib in /anaconda/lib/python3.6/site-packages (from spacy)\n",
      "Requirement already satisfied: preshed<2.0.0,>=1.0.0 in /anaconda/lib/python3.6/site-packages (from spacy)\n",
      "Requirement already satisfied: regex==2017.4.5 in /anaconda/lib/python3.6/site-packages (from spacy)\n",
      "Requirement already satisfied: plac<1.0.0,>=0.9.6 in /anaconda/lib/python3.6/site-packages (from spacy)\n",
      "Requirement already satisfied: ftfy<5.0.0,>=4.4.2 in /anaconda/lib/python3.6/site-packages (from spacy)\n",
      "Requirement already satisfied: wrapt in /anaconda/lib/python3.6/site-packages (from thinc<6.6.0,>=6.5.0->spacy)\n",
      "Requirement already satisfied: tqdm<5.0.0,>=4.10.0 in /anaconda/lib/python3.6/site-packages (from thinc<6.6.0,>=6.5.0->spacy)\n",
      "Requirement already satisfied: termcolor in /anaconda/lib/python3.6/site-packages (from thinc<6.6.0,>=6.5.0->spacy)\n",
      "Requirement already satisfied: cytoolz<0.9,>=0.8 in /anaconda/lib/python3.6/site-packages (from thinc<6.6.0,>=6.5.0->spacy)\n",
      "Requirement already satisfied: wcwidth in /anaconda/lib/python3.6/site-packages (from ftfy<5.0.0,>=4.4.2->spacy)\n",
      "Requirement already satisfied: html5lib in /anaconda/lib/python3.6/site-packages (from ftfy<5.0.0,>=4.4.2->spacy)\n",
      "Requirement already satisfied: webencodings in /anaconda/lib/python3.6/site-packages (from html5lib->ftfy<5.0.0,>=4.4.2->spacy)\n",
      "Requirement already satisfied: setuptools>=18.5 in /anaconda/lib/python3.6/site-packages (from html5lib->ftfy<5.0.0,>=4.4.2->spacy)\n",
      "Requirement already satisfied: appdirs>=1.4.0 in /anaconda/lib/python3.6/site-packages (from setuptools>=18.5->html5lib->ftfy<5.0.0,>=4.4.2->spacy)\n",
      "Requirement already satisfied: packaging>=16.8 in /anaconda/lib/python3.6/site-packages (from setuptools>=18.5->html5lib->ftfy<5.0.0,>=4.4.2->spacy)\n",
      "Requirement already satisfied: pyparsing in /anaconda/lib/python3.6/site-packages (from packaging>=16.8->setuptools>=18.5->html5lib->ftfy<5.0.0,>=4.4.2->spacy)\n",
      "Requirement already satisfied: redis in /anaconda/lib/python3.6/site-packages\n"
     ]
    }
   ],
   "source": [
    "import numpy as np\n",
    "import pandas as pd\n",
    "!pip install spacy\n",
    "from spacy.en import English\n",
    "import re\n",
    "!pip install redis\n",
    "import redis\n",
    "from spacy.en import STOP_WORDS"
   ]
  },
  {
   "cell_type": "code",
   "execution_count": 2,
   "metadata": {
    "collapsed": true
   },
   "outputs": [],
   "source": [
    "news_data = pd.read_csv('uci-news-aggregator.csv')"
   ]
  },
  {
   "cell_type": "code",
   "execution_count": 3,
   "metadata": {
    "collapsed": false
   },
   "outputs": [
    {
     "data": {
      "text/plain": [
       "(422419, 8)"
      ]
     },
     "execution_count": 3,
     "metadata": {},
     "output_type": "execute_result"
    }
   ],
   "source": [
    "news_data.shape"
   ]
  },
  {
   "cell_type": "code",
   "execution_count": 4,
   "metadata": {
    "collapsed": false
   },
   "outputs": [
    {
     "data": {
      "text/html": [
       "<div>\n",
       "<table border=\"1\" class=\"dataframe\">\n",
       "  <thead>\n",
       "    <tr style=\"text-align: right;\">\n",
       "      <th></th>\n",
       "      <th>ID</th>\n",
       "      <th>TITLE</th>\n",
       "      <th>URL</th>\n",
       "      <th>PUBLISHER</th>\n",
       "      <th>CATEGORY</th>\n",
       "      <th>STORY</th>\n",
       "      <th>HOSTNAME</th>\n",
       "      <th>TIMESTAMP</th>\n",
       "    </tr>\n",
       "  </thead>\n",
       "  <tbody>\n",
       "    <tr>\n",
       "      <th>0</th>\n",
       "      <td>1</td>\n",
       "      <td>Fed official says weak data caused by weather,...</td>\n",
       "      <td>http://www.latimes.com/business/money/la-fi-mo...</td>\n",
       "      <td>Los Angeles Times</td>\n",
       "      <td>b</td>\n",
       "      <td>ddUyU0VZz0BRneMioxUPQVP6sIxvM</td>\n",
       "      <td>www.latimes.com</td>\n",
       "      <td>1394470370698</td>\n",
       "    </tr>\n",
       "    <tr>\n",
       "      <th>1</th>\n",
       "      <td>2</td>\n",
       "      <td>Fed's Charles Plosser sees high bar for change...</td>\n",
       "      <td>http://www.livemint.com/Politics/H2EvwJSK2VE6O...</td>\n",
       "      <td>Livemint</td>\n",
       "      <td>b</td>\n",
       "      <td>ddUyU0VZz0BRneMioxUPQVP6sIxvM</td>\n",
       "      <td>www.livemint.com</td>\n",
       "      <td>1394470371207</td>\n",
       "    </tr>\n",
       "    <tr>\n",
       "      <th>2</th>\n",
       "      <td>3</td>\n",
       "      <td>US open: Stocks fall after Fed official hints ...</td>\n",
       "      <td>http://www.ifamagazine.com/news/us-open-stocks...</td>\n",
       "      <td>IFA Magazine</td>\n",
       "      <td>b</td>\n",
       "      <td>ddUyU0VZz0BRneMioxUPQVP6sIxvM</td>\n",
       "      <td>www.ifamagazine.com</td>\n",
       "      <td>1394470371550</td>\n",
       "    </tr>\n",
       "  </tbody>\n",
       "</table>\n",
       "</div>"
      ],
      "text/plain": [
       "   ID                                              TITLE  \\\n",
       "0   1  Fed official says weak data caused by weather,...   \n",
       "1   2  Fed's Charles Plosser sees high bar for change...   \n",
       "2   3  US open: Stocks fall after Fed official hints ...   \n",
       "\n",
       "                                                 URL          PUBLISHER  \\\n",
       "0  http://www.latimes.com/business/money/la-fi-mo...  Los Angeles Times   \n",
       "1  http://www.livemint.com/Politics/H2EvwJSK2VE6O...           Livemint   \n",
       "2  http://www.ifamagazine.com/news/us-open-stocks...       IFA Magazine   \n",
       "\n",
       "  CATEGORY                          STORY             HOSTNAME      TIMESTAMP  \n",
       "0        b  ddUyU0VZz0BRneMioxUPQVP6sIxvM      www.latimes.com  1394470370698  \n",
       "1        b  ddUyU0VZz0BRneMioxUPQVP6sIxvM     www.livemint.com  1394470371207  \n",
       "2        b  ddUyU0VZz0BRneMioxUPQVP6sIxvM  www.ifamagazine.com  1394470371550  "
      ]
     },
     "execution_count": 4,
     "metadata": {},
     "output_type": "execute_result"
    }
   ],
   "source": [
    "news_data.head(3)"
   ]
  },
  {
   "cell_type": "code",
   "execution_count": 5,
   "metadata": {
    "collapsed": true
   },
   "outputs": [],
   "source": [
    "nlp = English()"
   ]
  },
  {
   "cell_type": "markdown",
   "metadata": {},
   "source": [
    "This is just a function to lightly clean the text from our data"
   ]
  },
  {
   "cell_type": "code",
   "execution_count": 14,
   "metadata": {
    "collapsed": true
   },
   "outputs": [],
   "source": [
    "def cleaner(text):\n",
    "    text = re.sub('<.{0,3}>', '', text)\n",
    "    text = re.sub('[\\W]',' ',text)\n",
    "    text = re.sub('\\d','',text)\n",
    "    text = re.sub('\\s+',' ', text)\n",
    "    text = ' '.join([i.lemma_ for i in nlp(text) if i.orth_ not in STOP_WORDS])\n",
    "    return text"
   ]
  },
  {
   "cell_type": "markdown",
   "metadata": {},
   "source": [
    "Let's run that function on the title column"
   ]
  },
  {
   "cell_type": "code",
   "execution_count": 7,
   "metadata": {
    "collapsed": true
   },
   "outputs": [],
   "source": [
    "news_data['clean_title'] = news_data['TITLE'].apply(cleaner)"
   ]
  },
  {
   "cell_type": "markdown",
   "metadata": {},
   "source": [
    "These next two cells will each take a little while to run. "
   ]
  },
  {
   "cell_type": "code",
   "execution_count": 13,
   "metadata": {
    "collapsed": true
   },
   "outputs": [],
   "source": [
    "title_vecs = news_data['clean_title'].apply(lambda x: nlp(x).vector).values"
   ]
  },
  {
   "cell_type": "code",
   "execution_count": 15,
   "metadata": {
    "collapsed": true
   },
   "outputs": [],
   "source": [
    "title_vecs = np.array([nlp(i).vector for i in news_data['clean_title']])"
   ]
  },
  {
   "cell_type": "markdown",
   "metadata": {},
   "source": [
    "Now that our data is clean-ish and we have vectorized the titles, we can try running some models"
   ]
  },
  {
   "cell_type": "code",
   "execution_count": 16,
   "metadata": {
    "collapsed": true
   },
   "outputs": [],
   "source": [
    "from sklearn.neighbors import NearestNeighbors"
   ]
  },
  {
   "cell_type": "code",
   "execution_count": 17,
   "metadata": {
    "collapsed": true
   },
   "outputs": [],
   "source": [
    "nn = NearestNeighbors(n_neighbors=5)"
   ]
  },
  {
   "cell_type": "markdown",
   "metadata": {},
   "source": [
    "Fit the model to our data"
   ]
  },
  {
   "cell_type": "code",
   "execution_count": 18,
   "metadata": {
    "collapsed": false
   },
   "outputs": [
    {
     "data": {
      "text/plain": [
       "NearestNeighbors(algorithm='auto', leaf_size=30, metric='minkowski',\n",
       "         metric_params=None, n_jobs=1, n_neighbors=5, p=2, radius=1.0)"
      ]
     },
     "execution_count": 18,
     "metadata": {},
     "output_type": "execute_result"
    }
   ],
   "source": [
    "nn.fit(title_vecs)"
   ]
  },
  {
   "cell_type": "markdown",
   "metadata": {},
   "source": [
    "Here's one way to get the distance and indices of title ids"
   ]
  },
  {
   "cell_type": "code",
   "execution_count": 20,
   "metadata": {
    "collapsed": true
   },
   "outputs": [],
   "source": [
    "distance, indices = nn.kneighbors(nlp('sports').vector.reshape(1, -1))"
   ]
  },
  {
   "cell_type": "code",
   "execution_count": 21,
   "metadata": {
    "collapsed": false
   },
   "outputs": [
    {
     "data": {
      "text/plain": [
       "array([[ 2.24176616,  2.24176616,  4.33849967,  4.59863702,  4.6591042 ]])"
      ]
     },
     "execution_count": 21,
     "metadata": {},
     "output_type": "execute_result"
    }
   ],
   "source": [
    "distance"
   ]
  },
  {
   "cell_type": "code",
   "execution_count": 22,
   "metadata": {
    "collapsed": false
   },
   "outputs": [
    {
     "data": {
      "text/plain": [
       "array([[119580, 212774,  29006,  31646, 109849]])"
      ]
     },
     "execution_count": 22,
     "metadata": {},
     "output_type": "execute_result"
    }
   ],
   "source": [
    "indices"
   ]
  },
  {
   "cell_type": "markdown",
   "metadata": {},
   "source": [
    "Print out of these indices."
   ]
  },
  {
   "cell_type": "code",
   "execution_count": 31,
   "metadata": {
    "collapsed": false
   },
   "outputs": [
    {
     "data": {
      "text/html": [
       "<div>\n",
       "<table border=\"1\" class=\"dataframe\">\n",
       "  <thead>\n",
       "    <tr style=\"text-align: right;\">\n",
       "      <th></th>\n",
       "      <th>ID</th>\n",
       "      <th>TITLE</th>\n",
       "      <th>URL</th>\n",
       "      <th>PUBLISHER</th>\n",
       "      <th>CATEGORY</th>\n",
       "      <th>STORY</th>\n",
       "      <th>HOSTNAME</th>\n",
       "      <th>TIMESTAMP</th>\n",
       "      <th>clean_title</th>\n",
       "    </tr>\n",
       "  </thead>\n",
       "  <tbody>\n",
       "    <tr>\n",
       "      <th>119580</th>\n",
       "      <td>119916</td>\n",
       "      <td>Sports Other Sports</td>\n",
       "      <td>http://www.communitypress.ca/2014/04/14/ultima...</td>\n",
       "      <td>Community Press</td>\n",
       "      <td>e</td>\n",
       "      <td>dLnYW2W4bSaEflMQZ1viwZnDokmeM</td>\n",
       "      <td>www.communitypress.ca</td>\n",
       "      <td>1397594837262</td>\n",
       "      <td>sports other sports</td>\n",
       "    </tr>\n",
       "    <tr>\n",
       "      <th>212774</th>\n",
       "      <td>213220</td>\n",
       "      <td>Sports Other Sports</td>\n",
       "      <td>http://www.owensoundsuntimes.com/2014/05/16/ww...</td>\n",
       "      <td>Owen Sound Sun Times</td>\n",
       "      <td>b</td>\n",
       "      <td>dQ4Thx_EFXNgPHMYd8x6fhgp40PWM</td>\n",
       "      <td>www.owensoundsuntimes.com</td>\n",
       "      <td>1400381540095</td>\n",
       "      <td>sports other sports</td>\n",
       "    </tr>\n",
       "    <tr>\n",
       "      <th>29006</th>\n",
       "      <td>29007</td>\n",
       "      <td>Sports FYI</td>\n",
       "      <td>http://www.tulsaworld.com/sportsextra/sports-f...</td>\n",
       "      <td>Tulsa World</td>\n",
       "      <td>b</td>\n",
       "      <td>dR39a35kcuso-9M3bXDszPvdbxY1M</td>\n",
       "      <td>www.tulsaworld.com</td>\n",
       "      <td>1395503794366</td>\n",
       "      <td>sport fyi</td>\n",
       "    </tr>\n",
       "    <tr>\n",
       "      <th>31646</th>\n",
       "      <td>31647</td>\n",
       "      <td>Sports Media First Tweets</td>\n",
       "      <td>http://awfulannouncing.com/2014/first-tweets-b...</td>\n",
       "      <td>Awful Announcing</td>\n",
       "      <td>t</td>\n",
       "      <td>dGTARuAEeau1j-MEAoB-nfS4uaERM</td>\n",
       "      <td>awfulannouncing.com</td>\n",
       "      <td>1395513581918</td>\n",
       "      <td>sports media first tweets</td>\n",
       "    </tr>\n",
       "    <tr>\n",
       "      <th>109849</th>\n",
       "      <td>110046</td>\n",
       "      <td>Wide World of Sports TV partners</td>\n",
       "      <td>http://wwos.ninemsn.com.au/article.aspx\\?id=88...</td>\n",
       "      <td>Ninemsn</td>\n",
       "      <td>t</td>\n",
       "      <td>diZ1QfAptk5FAnMMQEdCq5RInWgrM</td>\n",
       "      <td>wwos.ninemsn.com.au</td>\n",
       "      <td>1397455154189</td>\n",
       "      <td>wide world sports tv partner</td>\n",
       "    </tr>\n",
       "  </tbody>\n",
       "</table>\n",
       "</div>"
      ],
      "text/plain": [
       "            ID                             TITLE  \\\n",
       "119580  119916               Sports Other Sports   \n",
       "212774  213220               Sports Other Sports   \n",
       "29006    29007                        Sports FYI   \n",
       "31646    31647         Sports Media First Tweets   \n",
       "109849  110046  Wide World of Sports TV partners   \n",
       "\n",
       "                                                      URL  \\\n",
       "119580  http://www.communitypress.ca/2014/04/14/ultima...   \n",
       "212774  http://www.owensoundsuntimes.com/2014/05/16/ww...   \n",
       "29006   http://www.tulsaworld.com/sportsextra/sports-f...   \n",
       "31646   http://awfulannouncing.com/2014/first-tweets-b...   \n",
       "109849  http://wwos.ninemsn.com.au/article.aspx\\?id=88...   \n",
       "\n",
       "                   PUBLISHER CATEGORY                          STORY  \\\n",
       "119580       Community Press        e  dLnYW2W4bSaEflMQZ1viwZnDokmeM   \n",
       "212774  Owen Sound Sun Times        b  dQ4Thx_EFXNgPHMYd8x6fhgp40PWM   \n",
       "29006            Tulsa World        b  dR39a35kcuso-9M3bXDszPvdbxY1M   \n",
       "31646       Awful Announcing        t  dGTARuAEeau1j-MEAoB-nfS4uaERM   \n",
       "109849               Ninemsn        t  diZ1QfAptk5FAnMMQEdCq5RInWgrM   \n",
       "\n",
       "                         HOSTNAME      TIMESTAMP                   clean_title  \n",
       "119580      www.communitypress.ca  1397594837262           sports other sports  \n",
       "212774  www.owensoundsuntimes.com  1400381540095           sports other sports  \n",
       "29006          www.tulsaworld.com  1395503794366                     sport fyi  \n",
       "31646         awfulannouncing.com  1395513581918     sports media first tweets  \n",
       "109849        wwos.ninemsn.com.au  1397455154189  wide world sports tv partner  "
      ]
     },
     "execution_count": 31,
     "metadata": {},
     "output_type": "execute_result"
    }
   ],
   "source": [
    "news_data.ix[indices[0]]"
   ]
  },
  {
   "cell_type": "markdown",
   "metadata": {},
   "source": [
    "Here's another way, using a function: \n",
    "return the most similar article to our topic. Also, I am only returning the columns from the dataframe that I think are relevant for our purposes here"
   ]
  },
  {
   "cell_type": "code",
   "execution_count": 32,
   "metadata": {
    "collapsed": true
   },
   "outputs": [],
   "source": [
    "def most_similar(search):\n",
    "    _ , indices = nn.kneighbors(nlp(cleaner(search)).vector.reshape(1, -1))\n",
    "    return news_data.ix[indices[0]][['ID','TITLE','clean_title','CATEGORY']]"
   ]
  },
  {
   "cell_type": "markdown",
   "metadata": {},
   "source": [
    "Then, calculate the cosine similarity betwen two vectors. The lower the numer is to 0, the closer the two vectors are to one another, while the closer to 1.0 that the cosine similarity is, the more likely it is that the two vectors are orthognal to one another."
   ]
  },
  {
   "cell_type": "code",
   "execution_count": 25,
   "metadata": {
    "collapsed": true
   },
   "outputs": [],
   "source": [
    "from scipy.spatial.distance import cosine"
   ]
  },
  {
   "cell_type": "code",
   "execution_count": 26,
   "metadata": {
    "collapsed": false
   },
   "outputs": [
    {
     "data": {
      "text/html": [
       "<div>\n",
       "<table border=\"1\" class=\"dataframe\">\n",
       "  <thead>\n",
       "    <tr style=\"text-align: right;\">\n",
       "      <th></th>\n",
       "      <th>ID</th>\n",
       "      <th>TITLE</th>\n",
       "      <th>clean_title</th>\n",
       "      <th>CATEGORY</th>\n",
       "    </tr>\n",
       "  </thead>\n",
       "  <tbody>\n",
       "    <tr>\n",
       "      <th>270155</th>\n",
       "      <td>270601</td>\n",
       "      <td>Fashion tragedies abound at the 'Fashion Oscars'</td>\n",
       "      <td>fashion tragedy abound fashion oscars</td>\n",
       "      <td>e</td>\n",
       "    </tr>\n",
       "    <tr>\n",
       "      <th>110551</th>\n",
       "      <td>110748</td>\n",
       "      <td>Celebrity festival fashion Coachella 2014 style</td>\n",
       "      <td>celebrity festival fashion coachella style</td>\n",
       "      <td>e</td>\n",
       "    </tr>\n",
       "    <tr>\n",
       "      <th>62226</th>\n",
       "      <td>62227</td>\n",
       "      <td>Fashion Watch on Vogue</td>\n",
       "      <td>fashion watch vogue</td>\n",
       "      <td>e</td>\n",
       "    </tr>\n",
       "    <tr>\n",
       "      <th>269921</th>\n",
       "      <td>270367</td>\n",
       "      <td>Best Dressed at the 2014 CFDA Fashion Awards</td>\n",
       "      <td>best dress cfda fashion awards</td>\n",
       "      <td>e</td>\n",
       "    </tr>\n",
       "    <tr>\n",
       "      <th>23030</th>\n",
       "      <td>23031</td>\n",
       "      <td>Futuristic fashion: Dress like a Divergent</td>\n",
       "      <td>futuristic fashion dress like divergent</td>\n",
       "      <td>e</td>\n",
       "    </tr>\n",
       "  </tbody>\n",
       "</table>\n",
       "</div>"
      ],
      "text/plain": [
       "            ID                                             TITLE  \\\n",
       "270155  270601  Fashion tragedies abound at the 'Fashion Oscars'   \n",
       "110551  110748   Celebrity festival fashion Coachella 2014 style   \n",
       "62226    62227                            Fashion Watch on Vogue   \n",
       "269921  270367      Best Dressed at the 2014 CFDA Fashion Awards   \n",
       "23030    23031        Futuristic fashion: Dress like a Divergent   \n",
       "\n",
       "                                       clean_title CATEGORY  \n",
       "270155       fashion tragedy abound fashion oscars        e  \n",
       "110551  celebrity festival fashion coachella style        e  \n",
       "62226                          fashion watch vogue        e  \n",
       "269921              best dress cfda fashion awards        e  \n",
       "23030      futuristic fashion dress like divergent        e  "
      ]
     },
     "execution_count": 26,
     "metadata": {},
     "output_type": "execute_result"
    }
   ],
   "source": [
    "most_similar('fashion')"
   ]
  },
  {
   "cell_type": "code",
   "execution_count": 34,
   "metadata": {
    "collapsed": false
   },
   "outputs": [
    {
     "data": {
      "text/plain": [
       "0.18658516804635905"
      ]
     },
     "execution_count": 34,
     "metadata": {},
     "output_type": "execute_result"
    }
   ],
   "source": [
    "cosine(title_vecs[270155], title_vecs[110551])"
   ]
  },
  {
   "cell_type": "code",
   "execution_count": 27,
   "metadata": {
    "collapsed": false
   },
   "outputs": [
    {
     "data": {
      "text/html": [
       "<div>\n",
       "<table border=\"1\" class=\"dataframe\">\n",
       "  <thead>\n",
       "    <tr style=\"text-align: right;\">\n",
       "      <th></th>\n",
       "      <th>ID</th>\n",
       "      <th>TITLE</th>\n",
       "      <th>clean_title</th>\n",
       "      <th>CATEGORY</th>\n",
       "    </tr>\n",
       "  </thead>\n",
       "  <tbody>\n",
       "    <tr>\n",
       "      <th>100224</th>\n",
       "      <td>100421</td>\n",
       "      <td>Diet Food 1</td>\n",
       "      <td>diet food</td>\n",
       "      <td>m</td>\n",
       "    </tr>\n",
       "    <tr>\n",
       "      <th>382537</th>\n",
       "      <td>382997</td>\n",
       "      <td>Organic food is still not more nutritious than...</td>\n",
       "      <td>organic food nutritious conventional food</td>\n",
       "      <td>m</td>\n",
       "    </tr>\n",
       "    <tr>\n",
       "      <th>104281</th>\n",
       "      <td>104478</td>\n",
       "      <td>Food Poisoning Risk Higher in Restaurant Food</td>\n",
       "      <td>food poisoning risk higher restaurant food</td>\n",
       "      <td>m</td>\n",
       "    </tr>\n",
       "    <tr>\n",
       "      <th>100219</th>\n",
       "      <td>100416</td>\n",
       "      <td>Backlash against diet food</td>\n",
       "      <td>backlash diet food</td>\n",
       "      <td>m</td>\n",
       "    </tr>\n",
       "    <tr>\n",
       "      <th>382523</th>\n",
       "      <td>382983</td>\n",
       "      <td>Organic foods may be healthier</td>\n",
       "      <td>organic food healthy</td>\n",
       "      <td>m</td>\n",
       "    </tr>\n",
       "  </tbody>\n",
       "</table>\n",
       "</div>"
      ],
      "text/plain": [
       "            ID                                              TITLE  \\\n",
       "100224  100421                                        Diet Food 1   \n",
       "382537  382997  Organic food is still not more nutritious than...   \n",
       "104281  104478      Food Poisoning Risk Higher in Restaurant Food   \n",
       "100219  100416                         Backlash against diet food   \n",
       "382523  382983                     Organic foods may be healthier   \n",
       "\n",
       "                                       clean_title CATEGORY  \n",
       "100224                                   diet food        m  \n",
       "382537   organic food nutritious conventional food        m  \n",
       "104281  food poisoning risk higher restaurant food        m  \n",
       "100219                          backlash diet food        m  \n",
       "382523                        organic food healthy        m  "
      ]
     },
     "execution_count": 27,
     "metadata": {},
     "output_type": "execute_result"
    }
   ],
   "source": [
    "most_similar('food')"
   ]
  },
  {
   "cell_type": "code",
   "execution_count": 42,
   "metadata": {
    "collapsed": false
   },
   "outputs": [
    {
     "data": {
      "text/plain": [
       "0.56166861587272865"
      ]
     },
     "execution_count": 42,
     "metadata": {},
     "output_type": "execute_result"
    }
   ],
   "source": [
    "cosine(title_vecs[10024], title_vecs[382537])"
   ]
  },
  {
   "cell_type": "markdown",
   "metadata": {},
   "source": [
    "Now this is my attempt to make this 'deployable,' using Redis. Insert the IP address of your EC2 instance below, set to the variable name \"redis_ip.\" I'm terminating the EC2 instance we used on Thursday (2017-08-03) because I think there's something going on with the memory."
   ]
  },
  {
   "cell_type": "code",
   "execution_count": 44,
   "metadata": {
    "collapsed": false
   },
   "outputs": [],
   "source": [
    "redis_ip = '52.27.124.192'\n",
    "\n",
    "r = redis.StrictRedis(redis_ip)"
   ]
  },
  {
   "cell_type": "markdown",
   "metadata": {},
   "source": [
    "Pickle our model and store it in redis"
   ]
  },
  {
   "cell_type": "code",
   "execution_count": 45,
   "metadata": {
    "collapsed": true
   },
   "outputs": [],
   "source": [
    "import pickle"
   ]
  },
  {
   "cell_type": "code",
   "execution_count": 46,
   "metadata": {
    "collapsed": true
   },
   "outputs": [],
   "source": [
    "model = pickle.dumps(nn)"
   ]
  },
  {
   "cell_type": "code",
   "execution_count": null,
   "metadata": {
    "collapsed": true
   },
   "outputs": [],
   "source": [
    "r.set('model', model)"
   ]
  },
  {
   "cell_type": "markdown",
   "metadata": {},
   "source": [
    "Pickle our dataframe also, so we can query it"
   ]
  },
  {
   "cell_type": "code",
   "execution_count": 48,
   "metadata": {
    "collapsed": true
   },
   "outputs": [],
   "source": [
    "data = pickle.dumps(news_data)"
   ]
  },
  {
   "cell_type": "code",
   "execution_count": null,
   "metadata": {
    "collapsed": true
   },
   "outputs": [],
   "source": [
    "r.set('dataframe', data)"
   ]
  },
  {
   "cell_type": "markdown",
   "metadata": {},
   "source": [
    "Use Redis to Load our pipeline:"
   ]
  },
  {
   "cell_type": "code",
   "execution_count": 50,
   "metadata": {
    "collapsed": true
   },
   "outputs": [],
   "source": [
    "pipe = r.pipeline()"
   ]
  },
  {
   "cell_type": "code",
   "execution_count": 49,
   "metadata": {
    "collapsed": false
   },
   "outputs": [
    {
     "name": "stdout",
     "output_type": "stream",
     "text": [
      "0 \t Fed official says weak data caused by weather, should not slow taper\n",
      "1 \t Fed's Charles Plosser sees high bar for change in pace of tapering\n",
      "2 \t US open: Stocks fall after Fed official hints at accelerated tapering\n",
      "3 \t Fed risks falling 'behind the curve', Charles Plosser says\n"
     ]
    }
   ],
   "source": [
    "for key, value in news_data[['TITLE']][:4].to_dict()['TITLE'].items():\n",
    "    print(key, '\\t', value)"
   ]
  },
  {
   "cell_type": "code",
   "execution_count": 51,
   "metadata": {
    "collapsed": false
   },
   "outputs": [
    {
     "data": {
      "text/plain": [
       "_StoreAction(option_strings=['-q', '--query'], dest='query', nargs=None, const=None, default=None, type=<class 'str'>, choices=None, help='Text to query', metavar=None)"
      ]
     },
     "execution_count": 51,
     "metadata": {},
     "output_type": "execute_result"
    }
   ],
   "source": [
    "from argparse import ArgumentParser\n",
    "\n",
    "parser = ArgumentParser()\n",
    "\n",
    "parser.add_argument('-q', '--query', type=str, help='Text to query')"
   ]
  },
  {
   "cell_type": "markdown",
   "metadata": {},
   "source": [
    "So now putting all the pieces together in one function:"
   ]
  },
  {
   "cell_type": "code",
   "execution_count": null,
   "metadata": {
    "collapsed": true
   },
   "outputs": [],
   "source": [
    "def make_prediction(title):\n",
    "    #     Vectorize the input\n",
    "    vec = nlp(title).vector\n",
    "\n",
    "    #     Load the model\n",
    "    model = pickle.loads(r.get('model'))\n",
    "\n",
    "    #     Find nearest neighbors\n",
    "    distances , indices = model.kneighbors(vec.reshape(1,-1))\n",
    "\n",
    "    #     get the indices\n",
    "    indices = indices[0]\n",
    "\n",
    "    #     create a pipeline\n",
    "    pipe = r.pipeline()\n",
    "\n",
    "    #     query for indices (lookup)\n",
    "    for index in indices:\n",
    "        pipe.get(bytes(str(index), 'utf-8'))\n",
    "    return list(zip(pipe.execute(), distances[0]))"
   ]
  },
  {
   "cell_type": "code",
   "execution_count": null,
   "metadata": {
    "collapsed": true
   },
   "outputs": [],
   "source": [
    "make_prediction('sports')"
   ]
  }
 ],
 "metadata": {
  "kernelspec": {
   "display_name": "Python 3",
   "language": "python",
   "name": "python3"
  },
  "language_info": {
   "codemirror_mode": {
    "name": "ipython",
    "version": 3
   },
   "file_extension": ".py",
   "mimetype": "text/x-python",
   "name": "python",
   "nbconvert_exporter": "python",
   "pygments_lexer": "ipython3",
   "version": "3.6.0"
  }
 },
 "nbformat": 4,
 "nbformat_minor": 2
}
